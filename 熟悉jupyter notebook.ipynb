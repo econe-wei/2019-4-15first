{
 "cells": [
  {
   "cell_type": "code",
   "execution_count": null,
   "metadata": {},
   "outputs": [],
   "source": []
  },
  {
   "cell_type": "code",
   "execution_count": 7,
   "metadata": {},
   "outputs": [
    {
     "name": "stdout",
     "output_type": "stream",
     "text": [
      "A+B= [5 7 9]\n",
      "A+B= [-3 -3 -3]\n"
     ]
    }
   ],
   "source": [
    "import numpy as np\n",
    "A = np.array([1,2,3])\n",
    "B = np.array([4,5,6])\n",
    "print('A+B=',np.add(A,B))\n",
    "print('A+B=',np.subtract(A,B))"
   ]
  },
  {
   "cell_type": "code",
   "execution_count": null,
   "metadata": {},
   "outputs": [],
   "source": []
  },
  {
   "cell_type": "code",
   "execution_count": 20,
   "metadata": {},
   "outputs": [
    {
     "name": "stdout",
     "output_type": "stream",
     "text": [
      "np.dot(C,D) =  [[18 11 16 16]\n",
      " [ 9  6 12 12]]\n",
      "np.matmul(C,D) =  [[18 11 16 16]\n",
      " [ 9  6 12 12]]\n",
      "     C@D     =  [[18 11 16 16]\n",
      " [ 9  6 12 12]]\n",
      "np.multiply(D,D) =  [[16  9 81 81]\n",
      " [ 1  1  4  4]\n",
      " [16  4  1  1]]\n",
      "     D*D     =  [[16  9 81 81]\n",
      " [ 1  1  4  4]\n",
      " [16  4  1  1]]\n"
     ]
    }
   ],
   "source": [
    "C = np.array([[1,2,3],\n",
    "            [1,1,1]])\n",
    "D = np.array([[4,3,9,9],\n",
    "             [1,1,2,2],\n",
    "             [4,2,1,1]])\n",
    "\n",
    "# 矩阵相乘\n",
    "print('np.dot(C,D) = ',np.dot(C,D))\n",
    "print('np.matmul(C,D) = ',np.matmul(C,D))\n",
    "print('     C@D     = ',np.matmul(C,D))\n",
    "\n",
    "# 元素与元素相乘，两种方法一样\n",
    "print('np.multiply(D,D) = ',np.multiply(D,D))\n",
    "print('     D*D     = ', D*D)\n"
   ]
  },
  {
   "cell_type": "markdown",
   "metadata": {},
   "source": [
    "#### np.dot和np.matmul的区别\n",
    "1.都是矩阵乘法\n",
    "2.np.matmul中，禁止矩阵与标量的乘法\n",
    "3.np.matmul中，在矢量乘矢量的内积运算中，matmul和dot没有区别\n",
    "4.np.matmul中，多维的矩阵，将前n-2维视为后2维德元素后，进行乘法操作"
   ]
  },
  {
   "cell_type": "code",
   "execution_count": null,
   "metadata": {},
   "outputs": [],
   "source": []
  },
  {
   "cell_type": "markdown",
   "metadata": {},
   "source": [
    "## Markdown的基本技巧"
   ]
  },
  {
   "cell_type": "markdown",
   "metadata": {},
   "source": [
    "1. 几个 # 号就可以表示几级标题（最多4级标题）\n",
    "2. 黑体   **ABC**\n",
    "3. 斜体   *\n",
    "4. 引用一段话   >\n",
    "5. 列出几个观点 （*＋空格）\n",
    "6. $\\pi$  $\\sum_{i=1}^{i=n}$     \\表示转义符（用的Latax语法）"
   ]
  },
  {
   "cell_type": "markdown",
   "metadata": {},
   "source": []
  },
  {
   "cell_type": "markdown",
   "metadata": {},
   "source": [
    " **Github** 是程序员必备工具，作为版本控制(version control)和协同合作的利器，让人爱不释手\n",
    "1. 安装GitHub for windows，注册账户\n",
    "2. 基本命令\n",
    "  * git init,建立一个新的repository\n",
    "  * git clone 克隆一个repository\n",
    "  * git ass 加入新的内容到缓存区\n",
    "  * git commit 实际提交改动\n",
    "  * git push 推送改动到远端\n",
    "  * git checkout -b 做一个分支branch\n",
    "  * git pull 获取并合并远端的版本（fetch+merge）\n",
    "  * git merge 合并其他版本，遇到冲突怎么办？\n",
    "  * git log 查看记录\n",
    "#### [参考资料](https://guides.github.com/)\n",
    "#### 工作区，暂存区，代码库"
   ]
  },
  {
   "cell_type": "code",
   "execution_count": null,
   "metadata": {},
   "outputs": [],
   "source": []
  },
  {
   "cell_type": "code",
   "execution_count": null,
   "metadata": {},
   "outputs": [],
   "source": []
  },
  {
   "cell_type": "code",
   "execution_count": null,
   "metadata": {},
   "outputs": [],
   "source": []
  },
  {
   "cell_type": "code",
   "execution_count": null,
   "metadata": {},
   "outputs": [],
   "source": []
  },
  {
   "cell_type": "code",
   "execution_count": null,
   "metadata": {},
   "outputs": [],
   "source": []
  },
  {
   "cell_type": "code",
   "execution_count": null,
   "metadata": {},
   "outputs": [],
   "source": []
  },
  {
   "cell_type": "code",
   "execution_count": null,
   "metadata": {},
   "outputs": [],
   "source": []
  },
  {
   "cell_type": "code",
   "execution_count": null,
   "metadata": {},
   "outputs": [],
   "source": []
  }
 ],
 "metadata": {
  "kernelspec": {
   "display_name": "Python 3",
   "language": "python",
   "name": "python3"
  },
  "language_info": {
   "codemirror_mode": {
    "name": "ipython",
    "version": 3
   },
   "file_extension": ".py",
   "mimetype": "text/x-python",
   "name": "python",
   "nbconvert_exporter": "python",
   "pygments_lexer": "ipython3",
   "version": "3.7.0"
  }
 },
 "nbformat": 4,
 "nbformat_minor": 2
}
